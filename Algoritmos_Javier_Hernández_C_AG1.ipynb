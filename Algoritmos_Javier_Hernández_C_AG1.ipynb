{
  "nbformat": 4,
  "nbformat_minor": 0,
  "metadata": {
    "colab": {
      "provenance": [],
      "authorship_tag": "ABX9TyN/hvGxwxt+qgTVU0YdGKAE",
      "include_colab_link": true
    },
    "kernelspec": {
      "name": "python3",
      "display_name": "Python 3"
    },
    "language_info": {
      "name": "python"
    }
  },
  "cells": [
    {
      "cell_type": "markdown",
      "metadata": {
        "id": "view-in-github",
        "colab_type": "text"
      },
      "source": [
        "<a href=\"https://colab.research.google.com/github/javierhrdez/Algoritmos-Optimizacion/blob/main/Algoritmos_Javier_Hern%C3%A1ndez_C_AG1.ipynb\" target=\"_parent\"><img src=\"https://colab.research.google.com/assets/colab-badge.svg\" alt=\"Open In Colab\"/></a>"
      ]
    },
    {
      "cell_type": "markdown",
      "source": [
        "## ACTIVIDAD GUIADA 1\n",
        "# JAVIER ANDRÉS HERNÁNDEZ CÁRDENAS\n",
        "#https://github.com/javierhrdez/Algoritmos-Optimizacion"
      ],
      "metadata": {
        "id": "DzmV4uFwq5ub"
      }
    },
    {
      "cell_type": "markdown",
      "source": [
        "## Torres de Hanoi"
      ],
      "metadata": {
        "id": "WZax2B0IsmIE"
      }
    },
    {
      "cell_type": "code",
      "execution_count": 22,
      "metadata": {
        "id": "NOI_dyn41VpH",
        "colab": {
          "base_uri": "https://localhost:8080/"
        },
        "outputId": "65d83f09-e248-4659-b9d6-ac336719e654"
      },
      "outputs": [
        {
          "output_type": "stream",
          "name": "stdout",
          "text": [
            "Mover disco 1 de A a B\n",
            "Mover disco 2 de A a C\n",
            "Mover disco 1 de B a C\n",
            "Mover disco 3 de A a B\n",
            "Mover disco 1 de C a A\n",
            "Mover disco 2 de C a B\n",
            "Mover disco 1 de A a B\n",
            "Mover disco 4 de A a C\n",
            "Mover disco 1 de B a C\n",
            "Mover disco 2 de B a A\n",
            "Mover disco 1 de C a A\n",
            "Mover disco 3 de B a C\n",
            "Mover disco 1 de A a B\n",
            "Mover disco 2 de A a C\n",
            "Mover disco 1 de B a C\n"
          ]
        }
      ],
      "source": [
        "def torres_hanoi(n, origen, destino, pivote):\n",
        "    if n == 1:\n",
        "        print(f\"Mover disco 1 de {origen} a {destino}\")\n",
        "        return\n",
        "    else:\n",
        "        torres_hanoi(n-1, origen, pivote, destino)\n",
        "        print(f\"Mover disco {n} de {origen} a {destino}\")\n",
        "        torres_hanoi(n-1, pivote, destino, origen)\n",
        "\n",
        "# Ejemplo de uso\n",
        "num_discos = 4\n",
        "torres_hanoi(num_discos, 'A', 'C', 'B')"
      ]
    },
    {
      "cell_type": "markdown",
      "source": [
        "## Cambio moneda\n",
        "\n"
      ],
      "metadata": {
        "id": "AeDsTaTqtsxf"
      }
    },
    {
      "cell_type": "code",
      "source": [
        "def cambio_moneda(cantidad, sistema):\n",
        "  print(f\"sistema : {sistema}\")\n",
        "  solucion = [0 for i in range(len(sistema))]\n",
        "  valor_acumulado = 0\n",
        "  for i in range(len(sistema)):\n",
        "    monedas = int((cantidad - valor_acumulado)/sistema[i])\n",
        "    solucion[i] = monedas\n",
        "    valor_acumulado += monedas*sistema[i]\n",
        "    if valor_acumulado == cantidad:\n",
        "      break\n",
        "  return solucion\n",
        "\n",
        "\n",
        "sistema = [25,10,5,1] # debe estar ordenado\n",
        "cambio_moneda(54, sistema)\n"
      ],
      "metadata": {
        "colab": {
          "base_uri": "https://localhost:8080/"
        },
        "id": "sAt7ju1xmxAz",
        "outputId": "e921882a-3aaf-4824-c930-ee3a80d94f4d"
      },
      "execution_count": 23,
      "outputs": [
        {
          "output_type": "stream",
          "name": "stdout",
          "text": [
            "sistema : [25, 10, 5, 1]\n"
          ]
        },
        {
          "output_type": "execute_result",
          "data": {
            "text/plain": [
              "[2, 0, 0, 4]"
            ]
          },
          "metadata": {},
          "execution_count": 23
        }
      ]
    },
    {
      "cell_type": "code",
      "source": [],
      "metadata": {
        "id": "qyQqyk3Kx_Qx"
      },
      "execution_count": null,
      "outputs": []
    }
  ]
}